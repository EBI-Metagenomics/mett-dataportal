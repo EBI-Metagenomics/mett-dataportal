{
 "cells": [
  {
   "cell_type": "code",
   "execution_count": null,
   "id": "initial_id",
   "metadata": {
    "collapsed": true
   },
   "outputs": [],
   "source": [
    "import ftplib\n",
    "import os\n",
    "import csv\n",
    "\n",
    "# FTP server details\n",
    "ftp_server = 'ftp.ebi.ac.uk'\n",
    "ftp_directory = '/pub/databases/mett/all_hd_isolates/deduplicated_assemblies/'\n",
    "\n",
    "# Connect to the FTP server\n",
    "ftp = ftplib.FTP(ftp_server)\n",
    "ftp.login()\n",
    "\n",
    "# Change to the target directory\n",
    "ftp.cwd(ftp_directory)\n",
    "\n",
    "# List files in the directory\n",
    "files = ftp.nlst()\n",
    "\n",
    "# Filter for fasta files\n",
    "fasta_files = [f for f in files if f.endswith('.fa')]\n",
    "\n",
    "# Prepare the CSV data\n",
    "csv_data = [[\"Assembly Name\", \"Isolate Name\", \"FTP File\"]]\n",
    "\n",
    "for file in fasta_files:\n",
    "    assembly_name = os.path.splitext(file)[0]\n",
    "    isolate_name = assembly_name.split('_NT')[0]  # Assuming isolate name is part of the filename\n",
    "    # isolate_name = assembly_name.split('_')[0]  # Assuming isolate name is part of the filename\n",
    "    # ftp_path = f'http://{ftp_server}{ftp_directory}{file}'\n",
    "    # ftp_path = file\n",
    "    \n",
    "    csv_data.append([assembly_name, isolate_name, file])\n",
    "\n",
    "# Save to CSV file\n",
    "csv_filename = 'fasta_files.csv'\n",
    "with open(csv_filename, 'w', newline='') as csvfile:\n",
    "    writer = csv.writer(csvfile)\n",
    "    writer.writerows(csv_data)\n",
    "\n",
    "print(f\"CSV file '{csv_filename}' has been created.\")\n",
    "\n",
    "# Close the FTP connection\n",
    "ftp.quit()\n"
   ]
  }
 ],
 "metadata": {
  "kernelspec": {
   "display_name": "Python 3",
   "language": "python",
   "name": "python3"
  },
  "language_info": {
   "codemirror_mode": {
    "name": "ipython",
    "version": 2
   },
   "file_extension": ".py",
   "mimetype": "text/x-python",
   "name": "python",
   "nbconvert_exporter": "python",
   "pygments_lexer": "ipython2",
   "version": "2.7.6"
  }
 },
 "nbformat": 4,
 "nbformat_minor": 5
}
