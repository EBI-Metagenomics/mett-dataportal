{
 "cells": [
  {
   "cell_type": "code",
   "execution_count": null,
   "id": "initial_id",
   "metadata": {
    "collapsed": true
   },
   "outputs": [],
   "source": [
    "import ftplib\n",
    "import os\n",
    "import csv\n",
    "\n",
    "# FTP server details\n",
    "ftp_server = 'ftp.ebi.ac.uk'\n",
    "ftp_directory = '/pub/databases/mett/annotations/v1_2024-04-15/'\n",
    "\n",
    "# Connect to the FTP server\n",
    "ftp = ftplib.FTP(ftp_server)\n",
    "ftp.login()\n",
    "\n",
    "# Change to the target directory\n",
    "ftp.cwd(ftp_directory)\n",
    "\n",
    "# List directories (isolates)\n",
    "isolates = ftp.nlst()\n",
    "\n",
    "# Prepare the CSV data\n",
    "# csv_data = [[\"Isolate Name\", \"Assembly Name\", \"FTP Path\"]]\n",
    "csv_data = [[\"Isolate Name\", \"FTP File\"]]\n",
    "\n",
    "# Function to list files in the directory and subdirectories\n",
    "def list_files(ftp, path):\n",
    "    file_list = []\n",
    "    try:\n",
    "        file_list = ftp.nlst(path)\n",
    "    except ftplib.error_perm as resp:\n",
    "        if str(resp) == \"550 No files found\":\n",
    "            pass\n",
    "        else:\n",
    "            raise\n",
    "    return file_list\n",
    "\n",
    "# Iterate through each isolate directory\n",
    "for isolate in isolates:\n",
    "    isolate_path = os.path.join(ftp_directory, isolate, 'functional_annotation/merged_gff/')\n",
    "    gff_files = list_files(ftp, isolate_path)\n",
    "    \n",
    "    for gff_file in gff_files:\n",
    "        if gff_file.endswith('_annotations.gff'):\n",
    "            # print(f'check --- {os.path.basename(gff_file)}')\n",
    "            ftp_file_name = os.path.basename(gff_file)\n",
    "            # assembly_name = os.path.splitext(os.path.basename(gff_file))[0]\n",
    "            # isolate_name = isolate\n",
    "            # ftp_path = f'http://{ftp_server}{gff_file}'\n",
    "            # ftp_path = gff_file\n",
    "            \n",
    "            csv_data.append([isolate, ftp_file_name])\n",
    "\n",
    "# Save to CSV file\n",
    "csv_filename = 'gff_files.csv'\n",
    "with open(csv_filename, 'w', newline='') as csvfile:\n",
    "    writer = csv.writer(csvfile)\n",
    "    writer.writerows(csv_data)\n",
    "\n",
    "print(f\"CSV file '{csv_filename}' has been created.\")\n",
    "\n",
    "# Close the FTP connection\n",
    "ftp.quit()\n"
   ]
  }
 ],
 "metadata": {
  "kernelspec": {
   "display_name": "Python 3",
   "language": "python",
   "name": "python3"
  },
  "language_info": {
   "codemirror_mode": {
    "name": "ipython",
    "version": 2
   },
   "file_extension": ".py",
   "mimetype": "text/x-python",
   "name": "python",
   "nbconvert_exporter": "python",
   "pygments_lexer": "ipython2",
   "version": "2.7.6"
  }
 },
 "nbformat": 4,
 "nbformat_minor": 5
}
