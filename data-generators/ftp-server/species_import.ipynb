{
 "cells": [
  {
   "cell_type": "code",
   "execution_count": null,
   "id": "initial_id",
   "metadata": {
    "collapsed": true
   },
   "outputs": [],
   "source": [
    "import pandas as pd\n",
    "import psycopg\n",
    "\n",
    "# Database connection setup\n",
    "conn = psycopg.connect(\n",
    "    dbname=\"postgres\", \n",
    "    user=\"postgres\", \n",
    "    password=\"pass123\", \n",
    "    host=\"localhost\", \n",
    "    port=\"5432\"\n",
    ")\n",
    "\n",
    "# Load the CSV file into a DataFrame\n",
    "species_df = pd.read_csv('./species.csv')\n",
    "print(f': {species_df} ')\n",
    "# Define insert query\n",
    "insert_query = \"\"\"\n",
    "INSERT INTO Species (id, scientific_name, common_name, acronym, taxonomy_id)\n",
    "VALUES (%s, %s, %s, %s, %s)\n",
    "ON CONFLICT (taxonomy_id) DO NOTHING; \n",
    "\"\"\"\n",
    "\n",
    "# Insert data into Species table\n",
    "with conn.cursor() as cursor:\n",
    "    for row in species_df.itertuples(index=False):\n",
    "        cursor.execute(insert_query, (row.id, row.scientific_name, row.common_name, row.acronym, row.taxonomy_id))\n",
    "    conn.commit()\n",
    "\n",
    "print(\"Species data successfully inserted into the database.\")\n",
    "\n",
    "# Close the connection\n",
    "conn.close()\n"
   ]
  }
 ],
 "metadata": {
  "kernelspec": {
   "display_name": "Python 3",
   "language": "python",
   "name": "python3"
  },
  "language_info": {
   "codemirror_mode": {
    "name": "ipython",
    "version": 2
   },
   "file_extension": ".py",
   "mimetype": "text/x-python",
   "name": "python",
   "nbconvert_exporter": "python",
   "pygments_lexer": "ipython2",
   "version": "2.7.6"
  }
 },
 "nbformat": 4,
 "nbformat_minor": 5
}
