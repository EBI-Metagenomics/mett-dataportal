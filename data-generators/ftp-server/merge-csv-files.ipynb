{
 "cells": [
  {
   "cell_type": "code",
   "execution_count": null,
   "id": "initial_id",
   "metadata": {
    "collapsed": true
   },
   "outputs": [],
   "source": [
    "import pandas as pd\n",
    "\n",
    "# File paths\n",
    "fasta_file = 'fasta_files.csv'\n",
    "gff_file = 'gff_files.csv'\n",
    "prefix_file = 'gff-assembly-prefixes.tsv'\n",
    "species_file = 'species.csv'\n",
    "strain_file = 'strain.csv'\n",
    "\n",
    "# Load the CSV files into dataframes\n",
    "fasta_df = pd.read_csv(fasta_file)\n",
    "gff_df = pd.read_csv(gff_file)\n",
    "prefix_df = pd.read_csv(prefix_file, sep='\\t')\n",
    "species_df = pd.read_csv(species_file)\n",
    "\n",
    "# Ensure the correct columns are used for merging\n",
    "# Extract the isolate name from the fasta file\n",
    "fasta_df['Isolate Name'] = fasta_df['Assembly Name'].apply(lambda x: x.split('_NT')[0])\n",
    "\n",
    "# Prepare prefix_df by removing extensions from assembly file names\n",
    "prefix_df['Assembly'] = prefix_df['assembly'].str.replace('.fa', '')\n",
    "\n",
    "# Merge fasta_df with prefix_df on Assembly Name to get the GFF Prefix\n",
    "fasta_merged_df = pd.merge(fasta_df, prefix_df, how='left', left_on='Assembly Name', right_on='Assembly')\n",
    "\n",
    "# Merge the result with the gff_df on the GFF Prefix (Isolate Name in gff_df)\n",
    "final_merged_df = pd.merge(fasta_merged_df, gff_df, how='left', left_on='prefix', right_on='Isolate Name')\n",
    "\n",
    "# Map species IDs based on the species name from species.csv\n",
    "species_mapping = dict(zip(species_df['Species Name'], species_df['ID']))\n",
    "\n",
    "# Add species ID column based on Isolate Name prefix and species mapping\n",
    "final_merged_df['Species ID'] = final_merged_df['Isolate Name_y'].apply(\n",
    "    lambda x: species_mapping.get('Bacteroides uniformis') if x.startswith('BU_')\n",
    "    else species_mapping.get('Phocaeicola vulgatus') if x.startswith('PV_')\n",
    "    else 'Unknown'\n",
    ")\n",
    "\n",
    "# Ensure the Species ID is valid\n",
    "final_merged_df = final_merged_df[final_merged_df['Species ID'] != 'Unknown']\n",
    "\n",
    "# Select and rename columns for the final output, now including Species ID and other Strain fields\n",
    "final_df = final_merged_df[['Species ID', 'Isolate Name_y', 'Assembly Name', 'FTP File_x', 'FTP File_y']]\n",
    "final_df.columns = ['Species ID', 'Isolate Name', 'Assembly Name', 'Fasta File', 'GFF File']\n",
    "\n",
    "# Add strain name column after the isolate name\n",
    "final_df.insert(2, 'Strain Name', final_df['Isolate Name'])  # Assuming Strain Name is the same as Isolate Name for now\n",
    "\n",
    "# Add Assembly Accession as \"123456\" for now\n",
    "final_df['Assembly Accession'] = '123456'\n",
    "\n",
    "# Save the merged dataframe to a new CSV file\n",
    "final_df.to_csv(strain_file, index=False)\n",
    "\n",
    "print(f\"Strain file '{strain_file}' has been created with the merged records.\")\n"
   ]
  }
 ],
 "metadata": {
  "kernelspec": {
   "display_name": "Python 3",
   "language": "python",
   "name": "python3"
  },
  "language_info": {
   "codemirror_mode": {
    "name": "ipython",
    "version": 2
   },
   "file_extension": ".py",
   "mimetype": "text/x-python",
   "name": "python",
   "nbconvert_exporter": "python",
   "pygments_lexer": "ipython2",
   "version": "2.7.6"
  }
 },
 "nbformat": 4,
 "nbformat_minor": 5
}
